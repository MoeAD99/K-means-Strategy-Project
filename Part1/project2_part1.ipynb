{
    "metadata": {
        "kernelspec": {
            "name": "python3",
            "display_name": "Python 3 (ipykernel)",
            "language": "python"
        }
    },
    "nbformat": 4,
    "nbformat_minor": 2,
    "cells": [
        {
            "attachments": {},
            "cell_type": "markdown",
            "metadata": {},
            "source": [
                "Add you import statements in the below code block. Please make sure to import Precode."
            ]
        },
        {
            "cell_type": "code",
            "execution_count": 5,
            "metadata": {},
            "outputs": [],
            "source": [
                "# import code here\n",
                "from precode import *\n",
                "import numpy\n",
                "import pandas as pd\n",
                "\n",
                "data = np.load('AllSamples.npy')"
            ]
        },
        {
            "attachments": {},
            "cell_type": "markdown",
            "metadata": {},
            "source": [
                "Below cell contains starter code to generate the initial centers. \n",
                "\n",
                "* Please do not change anything apart from the student ID.\n",
                "\n",
                "* The initial centers will be in a dictionary with keys being 'k' and value being the centers.\n",
                ""
            ]
        },
        {
            "cell_type": "code",
            "execution_count": 6,
            "metadata": {},
            "outputs": [],
            "source": [
                "initial_centers = {}\n",
                "for k in range(2, 11):\n",
                "    centers = initial_S1(\"0111\", k)  # please replace 0111 with your last four digit of your ID\n",
                "    initial_centers[k] = centers"
            ]
        },
        {
            "attachments": {},
            "cell_type": "markdown",
            "metadata": {},
            "source": [
                "Print the last 4 digits of your student id as string in the cell below. Please make sure to only have one print statement in the cell below."
            ]
        },
        {
            "cell_type": "code",
            "execution_count": 6,
            "metadata": {},
            "outputs": [],
            "source": [
                "### TEST FUNCTION: test_student_id\n",
                "# DO NOT REMOVE THE ABOVE LINE"
            ]
        },
        {
            "attachments": {},
            "cell_type": "markdown",
            "metadata": {},
            "source": [
                "Add your code for computing the kMeans final centroids and loss functions in the code block below."
            ]
        },
        {
            "cell_type": "code",
            "execution_count": 0,
            "metadata": {},
            "outputs": [],
            "source": [
                ""
            ]
        },
        {
            "attachments": {},
            "cell_type": "markdown",
            "metadata": {},
            "source": [
                "Please use the following cell to print all the final centeriods for k in the range of 2 to 10, both inclusive.\n",
                "\n",
                "**Notes:**\n",
                "* The centeriods should have the following format: `[[x1,y1],[x2,y2],[x3,y3]][[x1,y1],[x2,y2],[x3,y3]]`\n",
                "* The order of the centeriod does not matter but do NOT change the order for `x` and `y` coordinate.\n",
                "* Please print the centroids from k=2 to k=10 in order and each on a new line.\n",
                "* Do not print anything else in the code cell below.\n",
                "\n",
                "**Output format:**\n",
                "\n",
                "[[x1, y1], [x2, y2]]\n",
                "\n",
                "[[x1, y1], [x2, y2], [x3, y3]]\n",
                "\n",
                ".\n",
                "\n",
                ".\n",
                "\n",
                ".\n",
                "\n",
                "[[x1,y1], [x2,y2].....[x9,y9]]"
            ]
        },
        {
            "cell_type": "code",
            "execution_count": 8,
            "metadata": {},
            "outputs": [],
            "source": [
                "### TEST FUNCTION: test_question1\n",
                "# DO NOT REMOVE THE ABOVE LINE"
            ]
        },
        {
            "attachments": {},
            "cell_type": "markdown",
            "metadata": {},
            "source": [
                "Please use the following cell to print all the final loss functions for k in the range of 2 to 10, both inclusive.\n",
                "\n",
                "**Notes:**\n",
                "\n",
                "* Print the loss functions for every value of k on a new line and in order.\n",
                "* Do not print anything else in the code cell below.\n",
                "\n",
                "**Output format:**\n",
                "\n",
                "L1\n",
                "\n",
                "L2\n",
                "\n",
                ".\n",
                "\n",
                ".\n",
                "\n",
                ".\n",
                "\n",
                "L9\n",
                ""
            ]
        },
        {
            "cell_type": "code",
            "execution_count": 9,
            "metadata": {},
            "outputs": [],
            "source": [
                "### TEST FUNCTION: test_question2\n",
                "# DO NOT REMOVE THE ABOVE LINE"
            ]
        },
        {
            "attachments": {},
            "cell_type": "markdown",
            "metadata": {},
            "source": [
                "**This part of the project is manually graded.**\n",
                "\n",
                "Use the cells below to write the code for generating the loss function plot."
            ]
        },
        {
            "cell_type": "code",
            "execution_count": 0,
            "metadata": {},
            "outputs": [],
            "source": [
                ""
            ]
        },
        {
            "cell_type": "code",
            "execution_count": 0,
            "metadata": {},
            "outputs": [],
            "source": [
                ""
            ]
        }
    ]
}
