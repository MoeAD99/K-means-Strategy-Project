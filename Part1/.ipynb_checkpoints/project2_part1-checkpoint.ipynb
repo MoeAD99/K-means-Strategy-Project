{
 "cells": [
  {
   "attachments": {},
   "cell_type": "markdown",
   "metadata": {},
   "source": [
    "Add you import statements in the below code block. Please make sure to import Precode."
   ]
  },
  {
   "cell_type": "code",
   "execution_count": 404,
   "metadata": {},
   "outputs": [],
   "source": [
    "# import code here\n",
    "from precode import *\n",
    "import numpy as np\n",
    "import pandas as pd\n",
    "\n",
    "data = np.load('AllSamples.npy')"
   ]
  },
  {
   "attachments": {},
   "cell_type": "markdown",
   "metadata": {},
   "source": [
    "Below cell contains starter code to generate the initial centers. \n",
    "\n",
    "* Please do not change anything apart from the student ID.\n",
    "\n",
    "* The initial centers will be in a dictionary with keys being 'k' and value being the centers.\n"
   ]
  },
  {
   "cell_type": "code",
   "execution_count": 405,
   "metadata": {},
   "outputs": [],
   "source": [
    "initial_centers = {}\n",
    "for k in range(2, 11):\n",
    "    centers = initial_S1(\"1391\", k)  # please replace 0111 with your last four digit of your ID\n",
    "    initial_centers[k] = centers"
   ]
  },
  {
   "attachments": {},
   "cell_type": "markdown",
   "metadata": {},
   "source": [
    "Print the last 4 digits of your student id as string in the cell below. Please make sure to only have one print statement in the cell below."
   ]
  },
  {
   "cell_type": "code",
   "execution_count": 406,
   "metadata": {},
   "outputs": [
    {
     "name": "stdout",
     "output_type": "stream",
     "text": [
      "1391\n"
     ]
    }
   ],
   "source": [
    "### TEST FUNCTION: test_student_id\n",
    "# DO NOT REMOVE THE ABOVE LINE\n",
    "print(\"1391\")"
   ]
  },
  {
   "attachments": {},
   "cell_type": "markdown",
   "metadata": {},
   "source": [
    "Add your code for computing the kMeans final centroids and loss functions in the code block below."
   ]
  },
  {
   "cell_type": "code",
   "execution_count": 407,
   "metadata": {},
   "outputs": [
    {
     "name": "stdout",
     "output_type": "stream",
     "text": [
      "[ 1.77924718 -2.85901664]\n",
      "[-4.75498555  0.61515913  1.53285558]\n",
      "[-0.47064657 -4.90864243  3.3050372  -0.5247206 ]\n",
      "[-2.68014975 -7.04793553 -0.27481326 -0.44798095  3.41145597]\n",
      "[-5.59308181  5.23750866 -0.52609878 -0.18300402 -0.62049394  3.7647234 ]\n",
      "[-3.50635626 -7.16898278 -0.62153103  0.48167685  4.55388591 -0.28372109\n",
      " -0.52609878]\n",
      "[ 5.2818504  -2.68343302 -1.06661781  0.75188322 -1.5984747   3.772182\n",
      "  1.03372074 -6.8192464 ]\n",
      "[ 3.7647234  -3.58055218  0.78958106  5.23750866 -0.52609878 -7.16898278\n",
      "  0.19316611 -0.62153103 -2.59085249]\n",
      "[ 0.1853068   3.772182   -0.52609878  5.2818504   0.0566654  -1.65996484\n",
      "  0.78958106 -7.16898278 -2.59085249 -3.58055218]\n"
     ]
    }
   ],
   "source": [
    "final_centroids = {}\n",
    "assigned = {}\n",
    "losses = {}\n",
    "# print(data[0])\n",
    "# print(initial_centers[2])\n",
    "# print(np.sqrt(np.sum((data[0] - initial_centers[2])**2, axis=1)))\n",
    "for k in initial_centers.keys():\n",
    "    \n",
    "    centroids = initial_centers[k]\n",
    "    \n",
    "    for i in range(100):\n",
    "        k_cluster_grouped_distances = {}\n",
    "        min_distance_index = []\n",
    "        classified_cluster_datapoints = []\n",
    "        datapoint_to_centroids_distances = []\n",
    "        for x in data:\n",
    "            datapoint_to_centroids_distances.append(np.sqrt(np.sum((x - centroids)**2, axis=1)))\n",
    "        #k_cluster_grouped_distances[k] = datapoint_to_centroid_distances\n",
    "        min_distance_index = np.argmin(datapoint_to_centroids_distances, axis=1)\n",
    "        #print(min_distance_index)\n",
    "        for i in range(k):\n",
    "            # assign each datapoint to its nearest cluster. classified_cluster_datapoints is an array of clusters, each cluster is an array of datapoints\n",
    "            classified_cluster_datapoints.append(data[min_distance_index==i])\n",
    "        #assigned[k] = classified_cluster_datapoints\n",
    "        updated_centroids = [np.mean(classified_cluster_datapoints[i], axis=0) for i in range(k)]\n",
    "        if np.all(np.absolute(np.array(centroids) - np.array(updated_centroids)) < 0.00005):\n",
    "            break\n",
    "        centroids = updated_centroids\n",
    "    final_centroids[k] = centroids\n",
    "   # print(np.sum(data[0] - centroids, axis=1))\n",
    "   # losses[k] = np.sum([np.sqrt(np.sum((data[i] - centroids)**2, axis = 1)) for i in range(len(data))])\n",
    "#print([np.sqrt(np.sum((data - key)**2, axis=1)) for key in list(initial_centers.values())[0]])\n",
    "# print(centroids)\n",
    "# print(np.mean(classified_cluster_datapoints[0], axis = 0))\n",
    "#print(final_centroids[2])"
   ]
  },
  {
   "attachments": {},
   "cell_type": "markdown",
   "metadata": {},
   "source": [
    "Please use the following cell to print all the final centeriods for k in the range of 2 to 10, both inclusive.\n",
    "\n",
    "**Notes:**\n",
    "* The centeriods should have the following format: `[[x1,y1],[x2,y2],[x3,y3]][[x1,y1],[x2,y2],[x3,y3]]`\n",
    "* The order of the centeriod does not matter but do NOT change the order for `x` and `y` coordinate.\n",
    "* Please print the centroids from k=2 to k=10 in order and each on a new line.\n",
    "* Do not print anything else in the code cell below.\n",
    "\n",
    "**Output format:**\n",
    "\n",
    "[[x1, y1], [x2, y2]]\n",
    "\n",
    "[[x1, y1], [x2, y2], [x3, y3]]\n",
    "\n",
    ".\n",
    "\n",
    ".\n",
    "\n",
    ".\n",
    "\n",
    "[[x1,y1], [x2,y2].....[x9,y9]]"
   ]
  },
  {
   "cell_type": "code",
   "execution_count": 408,
   "metadata": {},
   "outputs": [
    {
     "name": "stdout",
     "output_type": "stream",
     "text": [
      "[[5.000562341588762, 2.4854274751531933], [4.852611930287174, 7.271641711202775]]\n",
      "[[6.497249620849709, 7.522972929895171], [2.5614644894663545, 6.088613382895479], [5.477400388679034, 2.254981027984723]]\n",
      "[[7.414192434680615, 2.3216911383868664], [6.603458393504191, 7.570421042158782], [3.363732738227625, 2.596467059856793], [2.8585923471789103, 6.931365250947319]]\n",
      "[[5.296298780069163, 6.649087966552475], [7.756483249146484, 8.556689279063415], [2.5197611640819364, 7.0202890945043475], [7.380762638700798, 2.332455315679148], [3.313432470175547, 2.5403485617921966]]\n",
      "[[6.7786424038212285, 8.079676411164815], [3.1660397272577874, 0.8616886118323305], [7.556167822397726, 2.235167959857534], [5.223212739403405, 4.2250282852390075], [2.8749081274874264, 7.010822811156844], [2.214068054222364, 3.286445548570339]]\n",
      "[[5.2402829638043125, 7.531310293267821], [7.914309977818314, 8.519909807700076], [2.183214622031253, 7.703553409180906], [3.00060229054155, 5.782957863293782], [2.736250054522389, 1.9751010338399708], [5.345603315617595, 4.203354778508424], [7.556167822397726, 2.235167959857534]]\n",
      "[[3.1690614508664035, 0.8143251472991676], [6.078733050391577, 5.869936972601599], [3.1757786997757065, 7.156076116526353], [4.818330576085663, 3.69502320071854], [7.925202326069019, 2.9385093784153717], [2.242047519125402, 3.251007486318421], [7.019390362512208, 1.2121258965006791], [7.528740374493046, 8.555743022813592]]\n",
      "[[2.214068054222364, 3.286445548570339], [5.021776597933489, 7.8240125818092165], [4.912514973376666, 3.5631409634126254], [3.1660397272577874, 0.8616886118323305], [7.556167822397726, 2.235167959857534], [7.914309977818314, 8.519909807700076], [3.138347677015053, 5.933723217937643], [2.183214622031253, 7.703553409180906], [6.15468228405522, 5.701407205679413]]\n",
      "[[3.2311125632348365, 5.848817638525821], [2.242047519125402, 3.251007486318421], [7.556167822397726, 2.235167959857534], [3.1690614508664035, 0.8143251472991676], [2.090208729220501, 7.118362869737812], [2.477565190085822, 8.447636655827047], [4.912514973376666, 3.5631409634126254], [7.914309977818314, 8.519909807700076], [6.15468228405522, 5.701407205679413], [5.021776597933489, 7.8240125818092165]]\n"
     ]
    }
   ],
   "source": [
    "### TEST FUNCTION: test_question1\n",
    "# DO NOT REMOVE THE ABOVE LINE\n",
    "for k,centroids in final_centroids.items():\n",
    "    c = [list(i) for i in centroids]\n",
    "    print(c)"
   ]
  },
  {
   "attachments": {},
   "cell_type": "markdown",
   "metadata": {},
   "source": [
    "Please use the following cell to print all the final loss functions for k in the range of 2 to 10, both inclusive.\n",
    "\n",
    "**Notes:**\n",
    "\n",
    "* Print the loss functions for every value of k on a new line and in order.\n",
    "* Do not print anything else in the code cell below.\n",
    "\n",
    "**Output format:**\n",
    "\n",
    "L1\n",
    "\n",
    "L2\n",
    "\n",
    ".\n",
    "\n",
    ".\n",
    "\n",
    ".\n",
    "\n",
    "L9\n"
   ]
  },
  {
   "cell_type": "code",
   "execution_count": 409,
   "metadata": {},
   "outputs": [
    {
     "name": "stdout",
     "output_type": "stream",
     "text": [
      "2284.2454047523615\n",
      "3629.2664866223286\n",
      "5045.883049437826\n",
      "6470.254909901082\n",
      "7774.635924417607\n",
      "9019.539334225494\n",
      "10494.196067500969\n",
      "11569.148048404099\n",
      "12989.875477451857\n"
     ]
    }
   ],
   "source": [
    "### TEST FUNCTION: test_question2\n",
    "# DO NOT REMOVE THE ABOVE LINE\n",
    "# for k,loss in losses.items():\n",
    "#     print(loss)"
   ]
  },
  {
   "attachments": {},
   "cell_type": "markdown",
   "metadata": {},
   "source": [
    "**This part of the project is manually graded.**\n",
    "\n",
    "Use the cells below to write the code for generating the loss function plot."
   ]
  },
  {
   "cell_type": "code",
   "execution_count": null,
   "metadata": {},
   "outputs": [],
   "source": []
  },
  {
   "cell_type": "code",
   "execution_count": null,
   "metadata": {},
   "outputs": [],
   "source": []
  }
 ],
 "metadata": {
  "kernelspec": {
   "display_name": "Python 3 (ipykernel)",
   "language": "python",
   "name": "python3"
  },
  "language_info": {
   "codemirror_mode": {
    "name": "ipython",
    "version": 3
   },
   "file_extension": ".py",
   "mimetype": "text/x-python",
   "name": "python",
   "nbconvert_exporter": "python",
   "pygments_lexer": "ipython3",
   "version": "3.8.18"
  }
 },
 "nbformat": 4,
 "nbformat_minor": 4
}
